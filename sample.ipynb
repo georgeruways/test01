{
 "cells": [
  {
   "cell_type": "markdown",
   "id": "7be514ec",
   "metadata": {},
   "source": [
    "First edit"
   ]
  },
  {
   "cell_type": "markdown",
   "id": "d013c21a",
   "metadata": {},
   "source": [
    "Second edit"
   ]
  },
  {
   "cell_type": "markdown",
   "id": "28c9e8ae",
   "metadata": {},
   "source": [
    "Third edit"
   ]
  }
 ],
 "metadata": {
  "kernelspec": {
   "display_name": "base",
   "language": "python",
   "name": "python3"
  },
  "language_info": {
   "codemirror_mode": {
    "name": "ipython",
    "version": 3
   },
   "file_extension": ".py",
   "mimetype": "text/x-python",
   "name": "python",
   "nbconvert_exporter": "python",
   "pygments_lexer": "ipython3",
   "version": "3.12.7"
  }
 },
 "nbformat": 4,
 "nbformat_minor": 5
}
